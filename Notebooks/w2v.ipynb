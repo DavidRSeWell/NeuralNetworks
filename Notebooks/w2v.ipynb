{
 "cells": [
  {
   "cell_type": "markdown",
   "metadata": {},
   "source": [
    "# W2V"
   ]
  },
  {
   "cell_type": "code",
   "execution_count": 1,
   "metadata": {},
   "outputs": [],
   "source": [
    "import numpy as np"
   ]
  },
  {
   "cell_type": "code",
   "execution_count": 2,
   "metadata": {},
   "outputs": [],
   "source": [
    "from __future__ import print_function\n",
    "from ipywidgets import interact, interactive, fixed, interact_manual\n",
    "from IPython.display import display\n",
    "from IPython.display import clear_output\n",
    "from functools import partial\n",
    "\n",
    "import ipywidgets as widgets\n",
    "import numpy as np"
   ]
  },
  {
   "cell_type": "code",
   "execution_count": null,
   "metadata": {},
   "outputs": [],
   "source": []
  },
  {
   "cell_type": "code",
   "execution_count": 3,
   "metadata": {},
   "outputs": [],
   "source": [
    "text = 'I swear to you gentlemen, that to be overly conscious is a sickness, a real, thorough sickness'\n",
    "text = text.replace(',','').lower()\n",
    "vocab = list(set(text.split()))"
   ]
  },
  {
   "cell_type": "code",
   "execution_count": 4,
   "metadata": {},
   "outputs": [],
   "source": [
    "vocab_size = len(vocab)\n",
    "vector_size = 2"
   ]
  },
  {
   "cell_type": "code",
   "execution_count": 5,
   "metadata": {},
   "outputs": [
    {
     "data": {
      "text/plain": [
       "['that',\n",
       " 'i',\n",
       " 'real',\n",
       " 'you',\n",
       " 'to',\n",
       " 'be',\n",
       " 'conscious',\n",
       " 'a',\n",
       " 'swear',\n",
       " 'thorough',\n",
       " 'overly',\n",
       " 'gentlemen',\n",
       " 'is',\n",
       " 'sickness']"
      ]
     },
     "execution_count": 5,
     "metadata": {},
     "output_type": "execute_result"
    }
   ],
   "source": [
    "vocab"
   ]
  },
  {
   "cell_type": "code",
   "execution_count": 6,
   "metadata": {},
   "outputs": [],
   "source": [
    "def init_weights(vocab_size,vector_size):\n",
    "    '''\n",
    "    '''\n",
    "    W_0 = np.random.random((vocab_size,vector_size))\n",
    "    W_1 = np.random.random((vector_size,vocab_size))\n",
    "    \n",
    "    return np.matrix(W_0), np.matrix(W_1)"
   ]
  },
  {
   "cell_type": "markdown",
   "metadata": {},
   "source": [
    "## CBOW"
   ]
  },
  {
   "cell_type": "code",
   "execution_count": 7,
   "metadata": {},
   "outputs": [],
   "source": [
    "text_list = text.split()"
   ]
  },
  {
   "cell_type": "code",
   "execution_count": 8,
   "metadata": {},
   "outputs": [
    {
     "data": {
      "text/plain": [
       "['i',\n",
       " 'swear',\n",
       " 'to',\n",
       " 'you',\n",
       " 'gentlemen',\n",
       " 'that',\n",
       " 'to',\n",
       " 'be',\n",
       " 'overly',\n",
       " 'conscious',\n",
       " 'is',\n",
       " 'a',\n",
       " 'sickness',\n",
       " 'a',\n",
       " 'real',\n",
       " 'thorough',\n",
       " 'sickness']"
      ]
     },
     "execution_count": 8,
     "metadata": {},
     "output_type": "execute_result"
    }
   ],
   "source": [
    "text_list"
   ]
  },
  {
   "cell_type": "code",
   "execution_count": 9,
   "metadata": {},
   "outputs": [],
   "source": [
    "W_0 , W_1 = init_weights(vocab_size,vector_size)"
   ]
  },
  {
   "cell_type": "code",
   "execution_count": 10,
   "metadata": {},
   "outputs": [
    {
     "data": {
      "text/plain": [
       "(2, 14)"
      ]
     },
     "execution_count": 10,
     "metadata": {},
     "output_type": "execute_result"
    }
   ],
   "source": [
    "W_1.shape"
   ]
  },
  {
   "cell_type": "code",
   "execution_count": 11,
   "metadata": {},
   "outputs": [
    {
     "data": {
      "text/plain": [
       "(1, 2)"
      ]
     },
     "execution_count": 11,
     "metadata": {},
     "output_type": "execute_result"
    }
   ],
   "source": [
    "W_0[0].shape"
   ]
  },
  {
   "cell_type": "code",
   "execution_count": 12,
   "metadata": {},
   "outputs": [
    {
     "data": {
      "text/plain": [
       "(14, 1)"
      ]
     },
     "execution_count": 12,
     "metadata": {},
     "output_type": "execute_result"
    }
   ],
   "source": [
    "np.matmul(W_1.T,W_0[0].T).shape"
   ]
  },
  {
   "cell_type": "code",
   "execution_count": 13,
   "metadata": {},
   "outputs": [],
   "source": [
    "def get_posterior(input_word,w_1):\n",
    "    \n",
    "    a = np.matmul(w_1.T,input_word.T)\n",
    "    a = np.exp(a)\n",
    "    a = a / sum(a)\n",
    "    return a"
   ]
  },
  {
   "cell_type": "code",
   "execution_count": 14,
   "metadata": {},
   "outputs": [],
   "source": [
    "w_input = text_list[0]\n",
    "w_output = text_list[1]   \n",
    "input_vocab_index = vocab.index(w_input)\n",
    "output_vocab_index = vocab.index(w_output)\n",
    "y_observed = np.zeros(len(vocab))\n",
    "\n",
    "w_i = W_0[input_vocab_index] # input vector\n",
    "\n",
    "h = w_i.T\n",
    "\n",
    "y_hat = get_posterior(w_i,W_1) # equation 3\n",
    "\n",
    "y_observed[output_vocab_index] = 1\n",
    "                      \n",
    "y_observed = np.reshape(y_observed,(len(vocab),1))\n",
    "\n",
    "dE_du = y_hat - y_observed # equation 8"
   ]
  },
  {
   "cell_type": "code",
   "execution_count": 26,
   "metadata": {},
   "outputs": [
    {
     "data": {
      "text/plain": [
       "matrix([[0.09399832],\n",
       "        [0.07912266],\n",
       "        [0.05360679],\n",
       "        [0.06884809],\n",
       "        [0.07591537],\n",
       "        [0.09492002],\n",
       "        [0.08115482],\n",
       "        [0.06006851],\n",
       "        [0.08547399],\n",
       "        [0.04918975],\n",
       "        [0.06779915],\n",
       "        [0.0565509 ],\n",
       "        [0.07160894],\n",
       "        [0.0617427 ]])"
      ]
     },
     "execution_count": 26,
     "metadata": {},
     "output_type": "execute_result"
    }
   ],
   "source": [
    "y_hat"
   ]
  },
  {
   "cell_type": "code",
   "execution_count": 15,
   "metadata": {},
   "outputs": [],
   "source": [
    "dE_dw1 = np.matmul(dE_du,h.T)"
   ]
  },
  {
   "cell_type": "markdown",
   "metadata": {},
   "source": [
    "## Example step through the network"
   ]
  },
  {
   "cell_type": "markdown",
   "metadata": {},
   "source": [
    "### input word vector"
   ]
  },
  {
   "cell_type": "code",
   "execution_count": 16,
   "metadata": {},
   "outputs": [
    {
     "ename": "SyntaxError",
     "evalue": "EOL while scanning string literal (<ipython-input-16-79e0048431bc>, line 2)",
     "output_type": "error",
     "traceback": [
      "\u001b[0;36m  File \u001b[0;32m\"<ipython-input-16-79e0048431bc>\"\u001b[0;36m, line \u001b[0;32m2\u001b[0m\n\u001b[0;31m    print(\"word indixw_i)\u001b[0m\n\u001b[0m                         ^\u001b[0m\n\u001b[0;31mSyntaxError\u001b[0m\u001b[0;31m:\u001b[0m EOL while scanning string literal\n"
     ]
    }
   ],
   "source": [
    "w_i = W_0[input_vocab_index] # input vector\n",
    "print(\"word indixw_i)"
   ]
  },
  {
   "cell_type": "code",
   "execution_count": 17,
   "metadata": {},
   "outputs": [],
   "source": [
    "from functools import partial"
   ]
  },
  {
   "cell_type": "code",
   "execution_count": 18,
   "metadata": {},
   "outputs": [],
   "source": [
    "class Counter:\n",
    "   def __init__(self, initial=0):\n",
    "      self.value = initial\n",
    "\n",
    "   def increment(self, amount=1):\n",
    "      self.value += amount\n",
    "      return self.value\n",
    "\n",
    "   def __iter__(self, sentinal=False):\n",
    "      return iter(self.increment, sentinal)"
   ]
  },
  {
   "cell_type": "code",
   "execution_count": 20,
   "metadata": {},
   "outputs": [],
   "source": [
    "def display_single_step(counter,b):\n",
    "    \n",
    "    with out:\n",
    "        clear_output()\n",
    "        current_index = counter.value\n",
    "        w_input = text_list[current_index]\n",
    "        w_output = text_list[current_index + 1]   \n",
    "        input_vocab_index = vocab.index(w_input)\n",
    "        output_vocab_index = vocab.index(w_output)\n",
    "\n",
    "        print(\"*---New iteration----*\")\n",
    "        print(\" \")\n",
    "        print(\"Context word = '{}'\".format(w_input))\n",
    "        print(\" \")\n",
    "        print(\"Target word = '{}''\".format(w_output))\n",
    "        print(\" \")\n",
    "        w_i = W_0[input_vocab_index] # input vector\n",
    "        print(\"Input vector {}\".format(str(w_i)))\n",
    "        print(\" \")\n",
    "        h = w_i.T\n",
    "        print(\"Hidden {}\".format(str(h)))\n",
    "        print(\" \")\n",
    "        y_hat = get_posterior(w_i,W_1) # equation 3\n",
    "        print(\"Y_hat {}\".format(str(y_hat)))\n",
    "        print(\" \")\n",
    "        y_observed = np.zeros(len(vocab))\n",
    "        y_observed[output_vocab_index] = 1\n",
    "\n",
    "        y_observed = np.reshape(y_observed,(len(vocab),1))\n",
    "        print(\"Y observed {}\".format(str(y_observed)))\n",
    "        print(\" \")\n",
    "        dE_du = y_hat - y_observed # equation 8\n",
    "        print(\"de_du {}\".format(str(dE_du)))\n",
    "        counter.increment()\n",
    "        "
   ]
  },
  {
   "cell_type": "code",
   "execution_count": 21,
   "metadata": {},
   "outputs": [
    {
     "data": {
      "application/vnd.jupyter.widget-view+json": {
       "model_id": "762098bdc83c4b49bf6872cbb5843d0b",
       "version_major": 2,
       "version_minor": 0
      },
      "text/plain": [
       "Output()"
      ]
     },
     "metadata": {},
     "output_type": "display_data"
    }
   ],
   "source": [
    "out = widgets.Output()\n",
    "display(out)"
   ]
  },
  {
   "cell_type": "code",
   "execution_count": 22,
   "metadata": {},
   "outputs": [
    {
     "data": {
      "application/vnd.jupyter.widget-view+json": {
       "model_id": "ba9aa6c31ea944e1ad48ff994897c848",
       "version_major": 2,
       "version_minor": 0
      },
      "text/plain": [
       "Button(description='Step', style=ButtonStyle())"
      ]
     },
     "metadata": {},
     "output_type": "display_data"
    }
   ],
   "source": [
    "counter = Counter()\n",
    "w = widgets.Button(description='Step')\n",
    "w.on_click(partial(display_single_step, counter))\n",
    "display(w)"
   ]
  },
  {
   "cell_type": "code",
   "execution_count": 27,
   "metadata": {},
   "outputs": [],
   "source": [
    "def run_simple_cbow(iters,text,vector_size):\n",
    "    '''\n",
    "        run through vocab the number of iters\n",
    "        for each word in text:\n",
    "            y = predict_next_word\n",
    "            get the loss\n",
    "            update the network\n",
    "    '''\n",
    "    \n",
    "    text_list = text.split()\n",
    "    text = text.replace(',','').lower()\n",
    "    vocab = list(set(text.split()))\n",
    "    vocab_size = len(vocab)\n",
    "    alpha = 0.005 # learning rate\n",
    "    \n",
    "    W_0, W_1 = init_weights(vocab_size,vector_size)\n",
    "    \n",
    "    for _ in range(iters): # one iteration is a full walk through the tex\n",
    "        \n",
    "        for i in range(len(text_list[:-1])): # go up to the last word. No wrapping\n",
    "            \n",
    "            # for each input word we are going to make a prediction\n",
    "            # for each word in the vocabulary\n",
    "            prediction_vector = [] # 1 x vocab size\n",
    "            gradient_vector_w = [] # gradient for 'input' weights. should be a 1 x vector size\n",
    "            gradient_vector_w_2 = [] # gradient for output weights. 1 x vector size\n",
    "            for j in range(vocab_size):\n",
    "                \n",
    "                w_input = text_list[i]\n",
    "                w_output = text_list[i + 1]   \n",
    "                input_vocab_index = vocab.index(w_input)\n",
    "                output_vocab_index = vocab.index(w_output)\n",
    "                y_observed = np.zeros(len(vocab))\n",
    "\n",
    "                w_i = W_0[input_vocab_index] # input vector\n",
    "\n",
    "                h = w_i.T # hidden layer equation 1\n",
    "\n",
    "                y_hat = get_posterior(w_i,W_1) # equation 2,3 in one step\n",
    "\n",
    "                y_observed[output_vocab_index] = 1\n",
    "\n",
    "                dE_du = y_hat - y_observed # equation 8 also e_j \n",
    "                \n",
    "                e_j = dE_du # for clarity matching notation to Rong\n",
    "\n",
    "                dE_dw1 = alpha*dE_du*h # equation 9\n",
    "                \n",
    "                gradien_vector_w_2[j] = dE_dw1\n",
    "                \n",
    "                # now to update the input weights\n",
    "                # equation 12 tells us that the change in the error w.r.t \n",
    "                # a single index of the hidden layer results in the sum of the error\n",
    "                # for the current output j times the ith index for each word in the \n",
    "                # output weigths. como? que? makes sense in my mind\n",
    "                \n",
    "                dE_dW = np.zeros(vector_size) # equation 15\n",
    "                for j_hidden in range(vector_size): # loop over each index in hidden layer\n",
    "                    dE_dh_i = None\n",
    "                    for j_2 in range(vocab_size):\n",
    "                        dE_dh_i += e_j*W_1[j_hidden][j_2]\n",
    "                        \n",
    "                    dE_dW[j_hidden] = dE_dh_i\n",
    "                    \n",
    "                prediction_vector[j] = y_hat\n",
    "                gradient_vector_w[j] = dE_dw1\n",
    "                gradient_vector_w_2 = dE_dW\n",
    "                \n",
    "            # ok I think we can update now\n",
    "            W_1[j]\n",
    "                \n",
    "                \n",
    "                \n",
    "            \n",
    "            \n",
    "        \n",
    "        \n",
    "        "
   ]
  },
  {
   "cell_type": "code",
   "execution_count": 28,
   "metadata": {},
   "outputs": [
    {
     "ename": "SyntaxError",
     "evalue": "invalid syntax (<ipython-input-28-aac99b4a158c>, line 1)",
     "output_type": "error",
     "traceback": [
      "\u001b[0;36m  File \u001b[0;32m\"<ipython-input-28-aac99b4a158c>\"\u001b[0;36m, line \u001b[0;32m1\u001b[0m\n\u001b[0;31m    [0.42659763 0.04893654]\u001b[0m\n\u001b[0m                         ^\u001b[0m\n\u001b[0;31mSyntaxError\u001b[0m\u001b[0;31m:\u001b[0m invalid syntax\n"
     ]
    }
   ],
   "source": [
    "[0.42659763 0.04893654]"
   ]
  },
  {
   "cell_type": "code",
   "execution_count": 37,
   "metadata": {},
   "outputs": [],
   "source": [
    "w = np.array([[0.5093555 , 0.0924488 ],[0.13525068, 0.65054176]])"
   ]
  },
  {
   "cell_type": "code",
   "execution_count": 38,
   "metadata": {},
   "outputs": [],
   "source": [
    "gradient = np.array([[0.03251563, 0.02791282],[0.00372998, 0.00320198]])"
   ]
  },
  {
   "cell_type": "code",
   "execution_count": 39,
   "metadata": {},
   "outputs": [],
   "source": [
    "w = w - 0.005*gradient"
   ]
  },
  {
   "cell_type": "code",
   "execution_count": 40,
   "metadata": {},
   "outputs": [
    {
     "data": {
      "text/plain": [
       "array([[0.50919292, 0.09230924],\n",
       "       [0.13523203, 0.65052575]])"
      ]
     },
     "execution_count": 40,
     "metadata": {},
     "output_type": "execute_result"
    }
   ],
   "source": [
    "w"
   ]
  },
  {
   "cell_type": "code",
   "execution_count": 1,
   "metadata": {},
   "outputs": [],
   "source": [
    "import seaborn as sns; sns.set()"
   ]
  },
  {
   "cell_type": "code",
   "execution_count": 26,
   "metadata": {},
   "outputs": [],
   "source": [
    "import matplotlib.pyplot as plt"
   ]
  },
  {
   "cell_type": "code",
   "execution_count": 57,
   "metadata": {},
   "outputs": [],
   "source": [
    "%matplotlib inline"
   ]
  },
  {
   "cell_type": "code",
   "execution_count": 41,
   "metadata": {},
   "outputs": [],
   "source": [
    "import numpy as np\n",
    "import pandas as pd"
   ]
  },
  {
   "cell_type": "code",
   "execution_count": null,
   "metadata": {},
   "outputs": [],
   "source": [
    "/Users/befeltingu/NeuralNetworks/NLP/data/cbow_simple_trans.npy"
   ]
  },
  {
   "cell_type": "code",
   "execution_count": 44,
   "metadata": {},
   "outputs": [],
   "source": [
    "david_trans_matrix = np.load(\"/Users/befeltingu/NeuralNetworks/NLP/data/cbow_simple_trans.npy\")"
   ]
  },
  {
   "cell_type": "code",
   "execution_count": 45,
   "metadata": {},
   "outputs": [],
   "source": [
    "text = 'I swear to you gentlemen, that to be overly conscious is a sickness, a real, thorough sickness'\n",
    "text = text.replace(',', '').lower()\n",
    "text_list = text.split()\n",
    "vocab = list(set(text.split()))\n",
    "vocab_size = len(vocab)"
   ]
  },
  {
   "cell_type": "code",
   "execution_count": 46,
   "metadata": {},
   "outputs": [
    {
     "data": {
      "text/plain": [
       "0"
      ]
     },
     "execution_count": 46,
     "metadata": {},
     "output_type": "execute_result"
    }
   ],
   "source": [
    "np.argmax(david_trans_matrix[5])"
   ]
  },
  {
   "cell_type": "code",
   "execution_count": 47,
   "metadata": {},
   "outputs": [
    {
     "data": {
      "text/plain": [
       "array([False, False, False, False, False, False, False, False, False,\n",
       "       False, False, False, False, False])"
      ]
     },
     "execution_count": 47,
     "metadata": {},
     "output_type": "execute_result"
    }
   ],
   "source": [
    "david_trans_matrix[0] == david_trans_matrix[1]"
   ]
  },
  {
   "cell_type": "code",
   "execution_count": 51,
   "metadata": {},
   "outputs": [
    {
     "data": {
      "text/plain": [
       "['gentlemen',\n",
       " 'i',\n",
       " 'conscious',\n",
       " 'thorough',\n",
       " 'be',\n",
       " 'to',\n",
       " 'sickness',\n",
       " 'that',\n",
       " 'is',\n",
       " 'a',\n",
       " 'swear',\n",
       " 'overly',\n",
       " 'you',\n",
       " 'real']"
      ]
     },
     "execution_count": 51,
     "metadata": {},
     "output_type": "execute_result"
    }
   ],
   "source": [
    "vocab"
   ]
  },
  {
   "cell_type": "code",
   "execution_count": 49,
   "metadata": {},
   "outputs": [
    {
     "data": {
      "text/plain": [
       "<Figure size 1152x360 with 0 Axes>"
      ]
     },
     "execution_count": 49,
     "metadata": {},
     "output_type": "execute_result"
    },
    {
     "data": {
      "text/plain": [
       "<Figure size 1152x360 with 0 Axes>"
      ]
     },
     "metadata": {},
     "output_type": "display_data"
    }
   ],
   "source": [
    "plt.figure(figsize = (16,5))"
   ]
  },
  {
   "cell_type": "code",
   "execution_count": 60,
   "metadata": {},
   "outputs": [],
   "source": [
    "data_df = pd.DataFrame(david_trans_matrix,columns=vocab)"
   ]
  },
  {
   "cell_type": "code",
   "execution_count": 65,
   "metadata": {},
   "outputs": [
    {
     "data": {
      "image/png": "[encoded data removed]",
      "text/plain": [
       "<Figure size 432x288 with 2 Axes>"
      ]
     },
     "metadata": {
      "needs_background": "light"
     },
     "output_type": "display_data"
    }
   ],
   "source": [
    "#fig, ax = plt.subplots(figsize=(20,20))\n",
    "ax = sns.heatmap(data_df,annot=True)\n",
    "#ax.set_xticklabels(vocab)\n",
    "#ax.set_yticklabels(vocab)"
   ]
  },
  {
   "cell_type": "code",
   "execution_count": null,
   "metadata": {},
   "outputs": [],
   "source": []
  }
 ],
 "metadata": {
  "kernelspec": {
   "display_name": "DeepRL",
   "language": "python",
   "name": "deeprl"
  },
  "language_info": {
   "codemirror_mode": {
    "name": "ipython",
    "version": 3
   },
   "file_extension": ".py",
   "mimetype": "text/x-python",
   "name": "python",
   "nbconvert_exporter": "python",
   "pygments_lexer": "ipython3",
   "version": "3.6.5"
  }
 },
 "nbformat": 4,
 "nbformat_minor": 2
}
