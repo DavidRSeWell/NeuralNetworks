{
 "cells": [
  {
   "cell_type": "markdown",
   "metadata": {},
   "source": [
    "## Notes for A - Matrix"
   ]
  },
  {
   "cell_type": "markdown",
   "metadata": {},
   "source": [
    "2/9/2019"
   ]
  },
  {
   "cell_type": "code",
   "execution_count": null,
   "metadata": {},
   "outputs": [],
   "source": []
  },
  {
   "cell_type": "markdown",
   "metadata": {},
   "source": [
    "Was able to reproduce System of V binary weighted logistic regressions\n",
    "Necessary Changes:\n",
    "        1.104 - Changed X to a V x K and Beta to a K x V - before p_i would result in a 1 x K output which is incorrect\n",
    "\n",
    "Text for tests\n",
    "text = '''\n",
    "        The cat really jumped\n",
    "        The cat really ate\n",
    "        The cat almost jumped\n",
    "        The cat almost ate\n",
    "        The dog really jumped\n",
    "        The dog really ate\n",
    "        The dog almost jumped\n",
    "        The dog almost ate\n",
    "    '''\n",
    "    \n",
    "Test Notes: 500 iterations for all. Vocab size = 7. Vector size = 7\n",
    "    Test 1: Only update Beta. Conditional probability on\n",
    "        A: Converges to conditional probability\n",
    "        B: Fails Similarity test\n",
    "    Test 2: Only update Beta Turn off Conditional Prob\n",
    "        A: Converges (not perfectly ) to conditional\n",
    "        B: Fails Similarity Test\n",
    "    Test 3: Update Both. Condition prob on\n",
    "        A: Converged (better than with only beta) to condition probability\n",
    "        B: Pass Similarity Test\n",
    "    Test 4: Update Both. Turn off conditional \n",
    "        A: Converged (slightly less well than Test 3) to conditional\n",
    "        B: Pass Similarity Test. Better than Test 3"
   ]
  }
 ],
 "metadata": {
  "kernelspec": {
   "display_name": "DeepRL",
   "language": "python",
   "name": "deeprl"
  },
  "language_info": {
   "codemirror_mode": {
    "name": "ipython",
    "version": 3
   },
   "file_extension": ".py",
   "mimetype": "text/x-python",
   "name": "python",
   "nbconvert_exporter": "python",
   "pygments_lexer": "ipython3",
   "version": "3.6.5"
  }
 },
 "nbformat": 4,
 "nbformat_minor": 2
}
